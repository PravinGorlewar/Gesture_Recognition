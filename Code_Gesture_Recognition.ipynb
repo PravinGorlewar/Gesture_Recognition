{
 "cells": [
  {
   "cell_type": "markdown",
   "metadata": {},
   "source": [
    "# Gesture Recognition\n",
    "In this group project, you are going to build a 3D Conv model that will be able to predict the 5 gestures correctly. Please import the following libraries to get started. Once you have completed the code you can download the notebook for making a submission."
   ]
  },
  {
   "cell_type": "code",
   "execution_count": 1,
   "metadata": {},
   "outputs": [],
   "source": [
    "import numpy as np\n",
    "import os\n",
    "from imageio import imread\n",
    "from skimage.transform import resize\n",
    "import datetime\n",
    "import os\n",
    "from PIL import Image\n",
    "import matplotlib.pyplot as plt"
   ]
  },
  {
   "cell_type": "markdown",
   "metadata": {},
   "source": [
    "We set the random seed so that the results don't vary drastically."
   ]
  },
  {
   "cell_type": "code",
   "execution_count": 2,
   "metadata": {},
   "outputs": [],
   "source": [
    "np.random.seed(30)\n",
    "import random as rn\n",
    "rn.seed(30)\n",
    "from tensorflow import keras\n",
    "import tensorflow as tf\n",
    "tf.random.set_seed(30)"
   ]
  },
  {
   "cell_type": "markdown",
   "metadata": {},
   "source": [
    "In this block, you read the folder names for training and validation. You also set the `batch_size` here. Note that you set the batch size in such a way that you are able to use the GPU in full capacity. You keep increasing the batch size until the machine throws an error."
   ]
  },
  {
   "cell_type": "markdown",
   "metadata": {},
   "source": [
    "**data path: /home/datasets/Project_data**"
   ]
  },
  {
   "cell_type": "code",
   "execution_count": 3,
   "metadata": {},
   "outputs": [],
   "source": [
    "train_doc = np.random.permutation(open('/home/datasets/Project_data/train.csv').readlines())\n",
    "val_doc = np.random.permutation(open('/home/datasets/Project_data/val.csv').readlines())\n",
    "batch_size = 30"
   ]
  },
  {
   "cell_type": "markdown",
   "metadata": {},
   "source": [
    "## Generator\n",
    "This is one of the most important part of the code. The overall structure of the generator has been given. In the generator, you are going to preprocess the images as you have images of 2 different dimensions as well as create a batch of video frames. You have to experiment with `img_idx`, `y`,`z` and normalization such that you get high accuracy."
   ]
  },
  {
   "cell_type": "code",
   "execution_count": 4,
   "metadata": {},
   "outputs": [],
   "source": [
    "def generator(source_path, folder_list, batch_size, max_samples):\n",
    "    print('Source path = ', source_path, '; batch size =', batch_size)\n",
    "    num_frames_to_select = 30\n",
    "    img_idx = list(range(num_frames_to_select))\n",
    "\n",
    "    while True:\n",
    "        t = np.random.permutation(folder_list)\n",
    "        num_batches = len(folder_list) // batch_size  # Full batches\n",
    "        num_remaining = len(folder_list) % batch_size  # Remaining items for last batch\n",
    "\n",
    "        # Calculate the total number of samples to generate\n",
    "        if max_samples is None:\n",
    "            total_samples = len(folder_list)\n",
    "        else:\n",
    "            total_samples = min(max_samples, len(folder_list))\n",
    "\n",
    "        for batch in range(num_batches):\n",
    "            if batch * batch_size >= total_samples:\n",
    "                break  # Stop if we've reached the specified maximum samples\n",
    "            batch_data = np.zeros((batch_size, z, y, x, 3))\n",
    "            batch_labels = np.zeros((batch_size, 5))\n",
    "            for folder in range(batch_size):\n",
    "                if folder + (batch * batch_size) >= total_samples:\n",
    "                    break  # Stop if we've reached the specified maximum samples\n",
    "                imgs = os.listdir(source_path + '/' + t[folder + (batch * batch_size)].split(';')[0])\n",
    "                for idx, item in enumerate(img_idx):\n",
    "                    img_path = os.path.join(source_path, t[folder + (batch * batch_size)].strip().split(';')[0], imgs[item])\n",
    "                    image = Image.open(img_path)\n",
    "                    image = image.resize((x, y))\n",
    "                    image = np.array(image).astype(np.float32) / 255.0\n",
    "                    batch_data[folder, idx, :, :, 0] = image[:, :, 0]\n",
    "                    batch_data[folder, idx, :, :, 1] = image[:, :, 1]\n",
    "                    batch_data[folder, idx, :, :, 2] = image[:, :, 2]\n",
    "                batch_labels[folder, int(t[folder + (batch * batch_size)].strip().split(';')[2])] = 1\n",
    "            yield batch_data, batch_labels\n",
    "\n",
    "        # Handling the remaining data points\n",
    "        if num_remaining > 0 and (max_samples is None or (batch + 1) * batch_size < total_samples):\n",
    "            batch_data = np.zeros((num_remaining, z, y, x, 3))\n",
    "            batch_labels = np.zeros((num_remaining, 5))\n",
    "            for folder in range(num_remaining):\n",
    "                if folder + (num_batches * batch_size) >= total_samples:\n",
    "                    break  # Stop if we've reached the specified maximum samples\n",
    "                imgs = os.listdir(os.path.join(source_path, t[folder + (num_batches * batch_size)].split(';')[0]))\n",
    "                for idx, item in enumerate(img_idx):\n",
    "                    img_path = os.path.join(source_path, t[folder + (num_batches * batch_size)].strip().split(';')[0], imgs[item])\n",
    "                    image = Image.open(img_path)\n",
    "                    image = image.resize((x, y))\n",
    "                    image = np.array(image).astype(np.float32) / 255.0\n",
    "                    batch_data[folder, idx, :, :, :] = image\n",
    "                batch_labels[folder, int(t[folder + (num_batches * batch_size)].strip().split(';')[2])] = 1\n",
    "            yield batch_data, batch_labels"
   ]
  },
  {
   "cell_type": "markdown",
   "metadata": {},
   "source": [
    "Note here that a video is represented above in the generator as (number of images, height, width, number of channels). Take this into consideration while creating the model architecture."
   ]
  },
  {
   "cell_type": "code",
   "execution_count": 10,
   "metadata": {},
   "outputs": [
    {
     "name": "stdout",
     "output_type": "stream",
     "text": [
      "# training sequences = 663\n",
      "# validation sequences = 100\n",
      "# epochs = 25\n"
     ]
    }
   ],
   "source": [
    "curr_dt_time = datetime.datetime.now()\n",
    "train_path = '/home/datasets/Project_data/train/'\n",
    "val_path = '/home/datasets/Project_data/val/'\n",
    "num_train_sequences = len(train_doc)\n",
    "print('# training sequences =', num_train_sequences)\n",
    "num_val_sequences = len(val_doc)\n",
    "print('# validation sequences =', num_val_sequences)\n",
    "num_epochs = 25 # choose the number of epochs\n",
    "print ('# epochs =', num_epochs)"
   ]
  },
  {
   "cell_type": "markdown",
   "metadata": {},
   "source": [
    "## Model\n",
    "Here you make the model using different functionalities that Keras provides. Remember to use `Conv3D` and `MaxPooling3D` and not `Conv2D` and `Maxpooling2D` for a 3D convolution model. You would want to use `TimeDistributed` while building a Conv2D + RNN model. Also remember that the last layer is the softmax. Design the network in such a way that the model is able to give good accuracy on the least number of parameters so that it can fit in the memory of the webcam."
   ]
  },
  {
   "cell_type": "code",
   "execution_count": 11,
   "metadata": {},
   "outputs": [
    {
     "name": "stderr",
     "output_type": "stream",
     "text": [
      "2023-12-27 10:19:42.920417: W tensorflow/core/common_runtime/gpu/gpu_bfc_allocator.cc:39] Overriding allow_growth setting because the TF_FORCE_GPU_ALLOW_GROWTH environment variable is set. Original config value was 0.\n",
      "2023-12-27 10:19:42.920479: I tensorflow/core/common_runtime/gpu/gpu_device.cc:1525] Created device /job:localhost/replica:0/task:0/device:GPU:0 with 14800 MB memory:  -> device: 0, name: Quadro RTX 5000, pci bus id: 0000:1d:00.0, compute capability: 7.5\n"
     ]
    }
   ],
   "source": [
    "from tensorflow.keras.models import Sequential, Model\n",
    "from tensorflow.keras.layers import Dense, GRU, Flatten, TimeDistributed, BatchNormalization, Activation\n",
    "from tensorflow.keras.layers import Conv3D, MaxPooling3D, Flatten, Dense, Dropout, BatchNormalization\n",
    "from tensorflow.keras.callbacks import ModelCheckpoint, ReduceLROnPlateau\n",
    "from tensorflow.keras.regularizers import l2\n",
    "from tensorflow.keras.optimizers import Adam\n",
    "from tensorflow.keras.callbacks import ReduceLROnPlateau\n",
    "#write your model here\n",
    "\n",
    "x = 100  # Number of rows in the image\n",
    "y = 100  # Number of columns in the image\n",
    "z = 30   # Number of frames used from each video\n",
    "# Model parameters\n",
    "input_shape = (z, y, x, 3)\n",
    "num_classes = 5\n",
    "\n",
    "model = Sequential()\n",
    "\n",
    "# First layer - Conv3D\n",
    "model.add(Conv3D(32, (3, 3, 3), activation='relu', input_shape=input_shape, kernel_regularizer=l2(0.001)))\n",
    "model.add(BatchNormalization())\n",
    "model.add(MaxPooling3D(pool_size=(2, 2, 2)))\n",
    "\n",
    "# Second layer - Conv3D\n",
    "model.add(Conv3D(64, (3, 3, 3), activation='relu', kernel_regularizer=l2(0.001)))\n",
    "model.add(BatchNormalization())\n",
    "model.add(MaxPooling3D(pool_size=(2, 2, 2)))\n",
    "\n",
    "# Flatten and Dense layers\n",
    "model.add(Flatten())\n",
    "model.add(Dense(128, activation='relu'))\n",
    "model.add(Dropout(0.5))\n",
    "model.add(Dense(num_classes, activation='softmax'))  # Softmax for multi-class classification"
   ]
  },
  {
   "cell_type": "markdown",
   "metadata": {},
   "source": [
    "Now that you have written the model, the next step is to `compile` the model. When you print the `summary` of the model, you'll see the total number of parameters you have to train."
   ]
  },
  {
   "cell_type": "code",
   "execution_count": 12,
   "metadata": {
    "scrolled": true
   },
   "outputs": [
    {
     "name": "stdout",
     "output_type": "stream",
     "text": [
      "Model: \"sequential\"\n",
      "_________________________________________________________________\n",
      " Layer (type)                Output Shape              Param #   \n",
      "=================================================================\n",
      " conv3d (Conv3D)             (None, 28, 98, 98, 32)    2624      \n",
      "                                                                 \n",
      " batch_normalization (BatchN  (None, 28, 98, 98, 32)   128       \n",
      " ormalization)                                                   \n",
      "                                                                 \n",
      " max_pooling3d (MaxPooling3D  (None, 14, 49, 49, 32)   0         \n",
      " )                                                               \n",
      "                                                                 \n",
      " conv3d_1 (Conv3D)           (None, 12, 47, 47, 64)    55360     \n",
      "                                                                 \n",
      " batch_normalization_1 (Batc  (None, 12, 47, 47, 64)   256       \n",
      " hNormalization)                                                 \n",
      "                                                                 \n",
      " max_pooling3d_1 (MaxPooling  (None, 6, 23, 23, 64)    0         \n",
      " 3D)                                                             \n",
      "                                                                 \n",
      " flatten (Flatten)           (None, 203136)            0         \n",
      "                                                                 \n",
      " dense (Dense)               (None, 128)               26001536  \n",
      "                                                                 \n",
      " dropout (Dropout)           (None, 128)               0         \n",
      "                                                                 \n",
      " dense_1 (Dense)             (None, 5)                 645       \n",
      "                                                                 \n",
      "=================================================================\n",
      "Total params: 26,060,549\n",
      "Trainable params: 26,060,357\n",
      "Non-trainable params: 192\n",
      "_________________________________________________________________\n",
      "None\n"
     ]
    }
   ],
   "source": [
    "optimiser = Adam(learning_rate=0.001) #write your optimizer\n",
    "model.compile(optimizer=optimiser, loss='categorical_crossentropy', metrics=['categorical_accuracy'])\n",
    "print (model.summary())"
   ]
  },
  {
   "cell_type": "markdown",
   "metadata": {},
   "source": [
    "Let us create the `train_generator` and the `val_generator` which will be used in `.fit_generator`."
   ]
  },
  {
   "cell_type": "code",
   "execution_count": 13,
   "metadata": {},
   "outputs": [],
   "source": [
    "max_sample = 300\n",
    "\n",
    "train_generator = generator(train_path, train_doc, batch_size, max_sample)\n",
    "val_generator = generator(val_path, val_doc, batch_size, 100)"
   ]
  },
  {
   "cell_type": "code",
   "execution_count": 14,
   "metadata": {},
   "outputs": [
    {
     "name": "stdout",
     "output_type": "stream",
     "text": [
      "WARNING:tensorflow:`period` argument is deprecated. Please use `save_freq` to specify the frequency in number of batches seen.\n"
     ]
    }
   ],
   "source": [
    "model_name = 'model_init' + '_' + str(curr_dt_time).replace(' ','').replace(':','_') + '/'\n",
    "\n",
    "if not os.path.exists(model_name):\n",
    "    os.mkdir(model_name)\n",
    "\n",
    "filepath = model_name + 'model-{epoch:05d}-{loss:.5f}-{categorical_accuracy:.5f}-{val_loss:.5f}-{val_categorical_accuracy:.5f}.h5'\n",
    "\n",
    "checkpoint = ModelCheckpoint(filepath, monitor='val_loss', verbose=1, save_best_only=False, save_weights_only=False, mode='auto', period=1)\n",
    "\n",
    "# Define the ReduceLROnPlateau callback\n",
    "LR = ReduceLROnPlateau(monitor='val_loss', factor=0.1, patience=5, min_lr=0.001, verbose=1)\n",
    "\n",
    "callbacks_list = [checkpoint, LR]"
   ]
  },
  {
   "cell_type": "markdown",
   "metadata": {},
   "source": [
    "The `steps_per_epoch` and `validation_steps` are used by `fit` method to decide the number of next() calls it need to make."
   ]
  },
  {
   "cell_type": "code",
   "execution_count": 15,
   "metadata": {},
   "outputs": [],
   "source": [
    "if (num_train_sequences%batch_size) == 0:\n",
    "    steps_per_epoch = int(num_train_sequences/batch_size)\n",
    "else:\n",
    "    steps_per_epoch = (num_train_sequences//batch_size) + 1\n",
    "\n",
    "if (num_val_sequences%batch_size) == 0:\n",
    "    validation_steps = int(num_val_sequences/batch_size)\n",
    "else:\n",
    "    validation_steps = (num_val_sequences//batch_size) + 1"
   ]
  },
  {
   "cell_type": "markdown",
   "metadata": {},
   "source": [
    "Let us now fit the model. This will start training the model and with the help of the checkpoints, you'll be able to save the model at the end of each epoch."
   ]
  },
  {
   "cell_type": "code",
   "execution_count": 12,
   "metadata": {},
   "outputs": [
    {
     "name": "stdout",
     "output_type": "stream",
     "text": [
      "Source path =  /home/datasets/Project_data/train/ ; batch size = 30\n",
      "Epoch 1/25\n"
     ]
    },
    {
     "name": "stderr",
     "output_type": "stream",
     "text": [
      "2023-12-27 06:08:48.498293: I tensorflow/stream_executor/cuda/cuda_dnn.cc:377] Loaded cuDNN version 8302\n"
     ]
    },
    {
     "name": "stdout",
     "output_type": "stream",
     "text": [
      "23/23 [==============================] - ETA: 0s - loss: 26.6861 - categorical_accuracy: 0.3768Source path =  /home/datasets/Project_data/val/ ; batch size = 30\n",
      "\n",
      "Epoch 00001: saving model to model_init_2023-12-2706_06_45.143002/model-00001-26.68607-0.37681-32.85888-0.18000.h5\n",
      "23/23 [==============================] - 98s 4s/step - loss: 26.6861 - categorical_accuracy: 0.3768 - val_loss: 32.8589 - val_categorical_accuracy: 0.1800 - lr: 0.0010\n",
      "Epoch 2/25\n",
      "23/23 [==============================] - ETA: 0s - loss: 6.2529 - categorical_accuracy: 0.3783\n",
      "Epoch 00002: saving model to model_init_2023-12-2706_06_45.143002/model-00002-6.25288-0.37826-12.54874-0.32000.h5\n",
      "23/23 [==============================] - 100s 5s/step - loss: 6.2529 - categorical_accuracy: 0.3783 - val_loss: 12.5487 - val_categorical_accuracy: 0.3200 - lr: 0.0010\n",
      "Epoch 3/25\n",
      "23/23 [==============================] - ETA: 0s - loss: 1.9786 - categorical_accuracy: 0.4188\n",
      "Epoch 00003: saving model to model_init_2023-12-2706_06_45.143002/model-00003-1.97861-0.41884-26.98686-0.34000.h5\n",
      "23/23 [==============================] - 97s 4s/step - loss: 1.9786 - categorical_accuracy: 0.4188 - val_loss: 26.9869 - val_categorical_accuracy: 0.3400 - lr: 0.0010\n",
      "Epoch 4/25\n",
      "23/23 [==============================] - ETA: 0s - loss: 1.8831 - categorical_accuracy: 0.3652\n",
      "Epoch 00004: saving model to model_init_2023-12-2706_06_45.143002/model-00004-1.88306-0.36522-68.39555-0.21000.h5\n",
      "23/23 [==============================] - 96s 4s/step - loss: 1.8831 - categorical_accuracy: 0.3652 - val_loss: 68.3955 - val_categorical_accuracy: 0.2100 - lr: 0.0010\n",
      "Epoch 5/25\n",
      "23/23 [==============================] - ETA: 0s - loss: 1.9271 - categorical_accuracy: 0.4232\n",
      "Epoch 00005: saving model to model_init_2023-12-2706_06_45.143002/model-00005-1.92711-0.42319-81.57016-0.28000.h5\n",
      "23/23 [==============================] - 98s 4s/step - loss: 1.9271 - categorical_accuracy: 0.4232 - val_loss: 81.5702 - val_categorical_accuracy: 0.2800 - lr: 0.0010\n",
      "Epoch 6/25\n",
      "23/23 [==============================] - ETA: 0s - loss: 1.4976 - categorical_accuracy: 0.4826\n",
      "Epoch 00006: saving model to model_init_2023-12-2706_06_45.143002/model-00006-1.49763-0.48261-103.71252-0.28000.h5\n",
      "23/23 [==============================] - 98s 4s/step - loss: 1.4976 - categorical_accuracy: 0.4826 - val_loss: 103.7125 - val_categorical_accuracy: 0.2800 - lr: 0.0010\n",
      "Epoch 7/25\n",
      "23/23 [==============================] - ETA: 0s - loss: 1.3950 - categorical_accuracy: 0.5333\n",
      "Epoch 00007: saving model to model_init_2023-12-2706_06_45.143002/model-00007-1.39501-0.53333-102.83862-0.29000.h5\n",
      "23/23 [==============================] - 99s 5s/step - loss: 1.3950 - categorical_accuracy: 0.5333 - val_loss: 102.8386 - val_categorical_accuracy: 0.2900 - lr: 0.0010\n",
      "Epoch 8/25\n",
      "23/23 [==============================] - ETA: 0s - loss: 1.4150 - categorical_accuracy: 0.5101\n",
      "Epoch 00008: saving model to model_init_2023-12-2706_06_45.143002/model-00008-1.41495-0.51014-129.40231-0.20000.h5\n",
      "23/23 [==============================] - 99s 4s/step - loss: 1.4150 - categorical_accuracy: 0.5101 - val_loss: 129.4023 - val_categorical_accuracy: 0.2000 - lr: 0.0010\n",
      "Epoch 9/25\n",
      "23/23 [==============================] - ETA: 0s - loss: 1.5324 - categorical_accuracy: 0.5464\n",
      "Epoch 00009: saving model to model_init_2023-12-2706_06_45.143002/model-00009-1.53241-0.54638-197.93877-0.24000.h5\n",
      "23/23 [==============================] - 102s 5s/step - loss: 1.5324 - categorical_accuracy: 0.5464 - val_loss: 197.9388 - val_categorical_accuracy: 0.2400 - lr: 0.0010\n",
      "Epoch 10/25\n",
      "23/23 [==============================] - ETA: 0s - loss: 1.3964 - categorical_accuracy: 0.5464\n",
      "Epoch 00010: saving model to model_init_2023-12-2706_06_45.143002/model-00010-1.39644-0.54638-199.35699-0.26000.h5\n",
      "23/23 [==============================] - 103s 5s/step - loss: 1.3964 - categorical_accuracy: 0.5464 - val_loss: 199.3570 - val_categorical_accuracy: 0.2600 - lr: 0.0010\n",
      "Epoch 11/25\n",
      "23/23 [==============================] - ETA: 0s - loss: 1.2573 - categorical_accuracy: 0.6087\n",
      "Epoch 00011: saving model to model_init_2023-12-2706_06_45.143002/model-00011-1.25733-0.60870-119.73293-0.22000.h5\n",
      "23/23 [==============================] - 102s 5s/step - loss: 1.2573 - categorical_accuracy: 0.6087 - val_loss: 119.7329 - val_categorical_accuracy: 0.2200 - lr: 0.0010\n",
      "Epoch 12/25\n",
      "23/23 [==============================] - ETA: 0s - loss: 1.1369 - categorical_accuracy: 0.5928\n",
      "Epoch 00012: saving model to model_init_2023-12-2706_06_45.143002/model-00012-1.13692-0.59275-94.41260-0.27000.h5\n",
      "23/23 [==============================] - 95s 4s/step - loss: 1.1369 - categorical_accuracy: 0.5928 - val_loss: 94.4126 - val_categorical_accuracy: 0.2700 - lr: 0.0010\n",
      "Epoch 13/25\n",
      "23/23 [==============================] - ETA: 0s - loss: 1.2665 - categorical_accuracy: 0.5812\n",
      "Epoch 00013: saving model to model_init_2023-12-2706_06_45.143002/model-00013-1.26647-0.58116-23.18293-0.36000.h5\n",
      "23/23 [==============================] - 99s 5s/step - loss: 1.2665 - categorical_accuracy: 0.5812 - val_loss: 23.1829 - val_categorical_accuracy: 0.3600 - lr: 0.0010\n",
      "Epoch 14/25\n",
      "23/23 [==============================] - ETA: 0s - loss: 1.1898 - categorical_accuracy: 0.5768\n",
      "Epoch 00014: saving model to model_init_2023-12-2706_06_45.143002/model-00014-1.18984-0.57681-20.56959-0.16000.h5\n",
      "23/23 [==============================] - 97s 4s/step - loss: 1.1898 - categorical_accuracy: 0.5768 - val_loss: 20.5696 - val_categorical_accuracy: 0.1600 - lr: 0.0010\n",
      "Epoch 15/25\n",
      "23/23 [==============================] - ETA: 0s - loss: 1.3420 - categorical_accuracy: 0.5304\n",
      "Epoch 00015: saving model to model_init_2023-12-2706_06_45.143002/model-00015-1.34203-0.53043-4.54351-0.30000.h5\n",
      "23/23 [==============================] - 99s 5s/step - loss: 1.3420 - categorical_accuracy: 0.5304 - val_loss: 4.5435 - val_categorical_accuracy: 0.3000 - lr: 0.0010\n",
      "Epoch 16/25\n",
      "23/23 [==============================] - ETA: 0s - loss: 1.0604 - categorical_accuracy: 0.5783\n",
      "Epoch 00016: saving model to model_init_2023-12-2706_06_45.143002/model-00016-1.06035-0.57826-11.00530-0.31000.h5\n",
      "23/23 [==============================] - 96s 4s/step - loss: 1.0604 - categorical_accuracy: 0.5783 - val_loss: 11.0053 - val_categorical_accuracy: 0.3100 - lr: 0.0010\n",
      "Epoch 17/25\n",
      "23/23 [==============================] - ETA: 0s - loss: 1.4231 - categorical_accuracy: 0.5565\n",
      "Epoch 00017: saving model to model_init_2023-12-2706_06_45.143002/model-00017-1.42308-0.55652-9.83503-0.55000.h5\n",
      "23/23 [==============================] - 95s 4s/step - loss: 1.4231 - categorical_accuracy: 0.5565 - val_loss: 9.8350 - val_categorical_accuracy: 0.5500 - lr: 0.0010\n",
      "Epoch 18/25\n",
      "23/23 [==============================] - ETA: 0s - loss: 1.2379 - categorical_accuracy: 0.6290\n",
      "Epoch 00018: saving model to model_init_2023-12-2706_06_45.143002/model-00018-1.23791-0.62899-13.43540-0.53000.h5\n",
      "23/23 [==============================] - 98s 4s/step - loss: 1.2379 - categorical_accuracy: 0.6290 - val_loss: 13.4354 - val_categorical_accuracy: 0.5300 - lr: 0.0010\n",
      "Epoch 19/25\n",
      "23/23 [==============================] - ETA: 0s - loss: 1.0080 - categorical_accuracy: 0.6304\n",
      "Epoch 00019: saving model to model_init_2023-12-2706_06_45.143002/model-00019-1.00797-0.63043-19.33934-0.47000.h5\n",
      "23/23 [==============================] - 99s 4s/step - loss: 1.0080 - categorical_accuracy: 0.6304 - val_loss: 19.3393 - val_categorical_accuracy: 0.4700 - lr: 0.0010\n",
      "Epoch 20/25\n",
      "23/23 [==============================] - ETA: 0s - loss: 1.3360 - categorical_accuracy: 0.6275\n",
      "Epoch 00020: saving model to model_init_2023-12-2706_06_45.143002/model-00020-1.33604-0.62754-9.04463-0.46000.h5\n",
      "23/23 [==============================] - 98s 4s/step - loss: 1.3360 - categorical_accuracy: 0.6275 - val_loss: 9.0446 - val_categorical_accuracy: 0.4600 - lr: 0.0010\n",
      "Epoch 21/25\n",
      "23/23 [==============================] - ETA: 0s - loss: 1.1550 - categorical_accuracy: 0.6435\n",
      "Epoch 00021: saving model to model_init_2023-12-2706_06_45.143002/model-00021-1.15497-0.64348-10.15693-0.41000.h5\n",
      "23/23 [==============================] - 99s 4s/step - loss: 1.1550 - categorical_accuracy: 0.6435 - val_loss: 10.1569 - val_categorical_accuracy: 0.4100 - lr: 0.0010\n",
      "Epoch 22/25\n",
      "23/23 [==============================] - ETA: 0s - loss: 1.0466 - categorical_accuracy: 0.6290\n",
      "Epoch 00022: saving model to model_init_2023-12-2706_06_45.143002/model-00022-1.04656-0.62899-32.62247-0.40000.h5\n",
      "23/23 [==============================] - 97s 4s/step - loss: 1.0466 - categorical_accuracy: 0.6290 - val_loss: 32.6225 - val_categorical_accuracy: 0.4000 - lr: 0.0010\n",
      "Epoch 23/25\n",
      "23/23 [==============================] - ETA: 0s - loss: 1.1149 - categorical_accuracy: 0.6232\n",
      "Epoch 00023: saving model to model_init_2023-12-2706_06_45.143002/model-00023-1.11494-0.62319-32.22580-0.32000.h5\n",
      "23/23 [==============================] - 99s 4s/step - loss: 1.1149 - categorical_accuracy: 0.6232 - val_loss: 32.2258 - val_categorical_accuracy: 0.3200 - lr: 0.0010\n",
      "Epoch 24/25\n",
      "23/23 [==============================] - ETA: 0s - loss: 1.0312 - categorical_accuracy: 0.6725\n",
      "Epoch 00024: saving model to model_init_2023-12-2706_06_45.143002/model-00024-1.03123-0.67246-30.22178-0.20000.h5\n",
      "23/23 [==============================] - 95s 4s/step - loss: 1.0312 - categorical_accuracy: 0.6725 - val_loss: 30.2218 - val_categorical_accuracy: 0.2000 - lr: 0.0010\n",
      "Epoch 25/25\n",
      "23/23 [==============================] - ETA: 0s - loss: 1.0056 - categorical_accuracy: 0.6681\n",
      "Epoch 00025: saving model to model_init_2023-12-2706_06_45.143002/model-00025-1.00556-0.66812-5.87592-0.34000.h5\n",
      "23/23 [==============================] - 99s 4s/step - loss: 1.0056 - categorical_accuracy: 0.6681 - val_loss: 5.8759 - val_categorical_accuracy: 0.3400 - lr: 0.0010\n"
     ]
    }
   ],
   "source": [
    "history = model.fit(train_generator, steps_per_epoch=steps_per_epoch, epochs=num_epochs, verbose=1, \n",
    "                    callbacks=callbacks_list, validation_data=val_generator, \n",
    "                    validation_steps=validation_steps, class_weight=None, workers=1, initial_epoch=0)"
   ]
  },
  {
   "cell_type": "code",
   "execution_count": 13,
   "metadata": {},
   "outputs": [
    {
     "data": {
      "image/png": "[encoded data removed]",
      "text/plain": [
       "<Figure size 432x288 with 1 Axes>"
      ]
     },
     "metadata": {
      "needs_background": "light"
     },
     "output_type": "display_data"
    }
   ],
   "source": [
    "# Plot training & validation accuracy values\n",
    "plt.plot(history.history['categorical_accuracy'])\n",
    "plt.plot(history.history['val_categorical_accuracy'])\n",
    "plt.title('Model Accuracy')\n",
    "plt.ylabel('Accuracy')\n",
    "plt.xlabel('Epoch')\n",
    "plt.legend(['Train', 'Validation'], loc='upper left')\n",
    "plt.show()"
   ]
  },
  {
   "cell_type": "code",
   "execution_count": 14,
   "metadata": {},
   "outputs": [
    {
     "data": {
      "image/png": "[encoded data removed]",
      "text/plain": [
       "<Figure size 432x288 with 1 Axes>"
      ]
     },
     "metadata": {
      "needs_background": "light"
     },
     "output_type": "display_data"
    }
   ],
   "source": [
    "# Plot training & validation loss values\n",
    "plt.plot(history.history['loss'])\n",
    "plt.plot(history.history['val_loss'])\n",
    "plt.title('Model Loss')\n",
    "plt.ylabel('Loss')\n",
    "plt.xlabel('Epoch')\n",
    "plt.legend(['Train', 'Validation'], loc='upper left')\n",
    "plt.show()"
   ]
  },
  {
   "cell_type": "markdown",
   "metadata": {},
   "source": [
    "Observations:\n",
    "- Training accuracy plateaus at 50%\n",
    "- Validation accuracy is lower and fluctuates, indicating overfitting and poor generalization.\n",
    "- The accuracy gap and validation fluctuations imply a need for improved generalization methods.\n",
    "- Training and validation losses are initially high but the training loss drops sharply after the first epoch.\n",
    "- Validation loss shows large fluctuations post-initial drop, hinting at potential generalization issues.\n",
    "- There's a general downward trend in loss, indicating that the model is learning over time.\n",
    "\n",
    "Actions\n",
    "- Improve Data Augmentation\n",
    "- Modify Learning Rate\n",
    "- Batch Size Adjustment\n",
    "- Update Model Architecture\n",
    "- Adding dropout before a dense layer"
   ]
  },
  {
   "cell_type": "markdown",
   "metadata": {},
   "source": [
    "Experiment 2"
   ]
  },
  {
   "cell_type": "markdown",
   "metadata": {},
   "source": [
    "Improve Data Augmenation"
   ]
  },
  {
   "cell_type": "code",
   "execution_count": 6,
   "metadata": {},
   "outputs": [],
   "source": [
    "import random\n",
    "from scipy import ndimage\n",
    "\n",
    "def generator_updated(source_path, folder_list, batch_size, max_samples):\n",
    "    print('Source path = ', source_path, '; batch size =', batch_size)\n",
    "    num_frames_to_select = 30\n",
    "    img_idx = list(range(num_frames_to_select))\n",
    "\n",
    "    while True:\n",
    "        t = np.random.permutation(folder_list)\n",
    "        num_batches = len(folder_list) // batch_size  # Full batches\n",
    "        num_remaining = len(folder_list) % batch_size  # Remaining items for last batch\n",
    "\n",
    "        # Calculate the total number of samples to generate\n",
    "        total_samples = len(folder_list) if max_samples is None else min(max_samples, len(folder_list))\n",
    "\n",
    "        for batch in range(num_batches):\n",
    "            if batch * batch_size >= total_samples:\n",
    "                break\n",
    "            batch_data = np.zeros((batch_size, num_frames_to_select, y, x, 3))\n",
    "            batch_labels = np.zeros((batch_size, 5))\n",
    "            for folder in range(batch_size):\n",
    "                if folder + (batch * batch_size) >= total_samples:\n",
    "                    break\n",
    "                imgs = sorted(os.listdir(source_path + '/' + t[folder + (batch * batch_size)].split(';')[0]))[:num_frames_to_select]\n",
    "                \n",
    "                # Temporal augmentation: Random start\n",
    "                start_frame = random.randint(0, len(imgs) - num_frames_to_select)\n",
    "                imgs = imgs[start_frame:start_frame + num_frames_to_select]\n",
    "\n",
    "                # Spatial augmentation: Random horizontal flip\n",
    "                do_horizontal_flip = random.random() < 0.5\n",
    "                for idx, img_name in enumerate(imgs):\n",
    "                    img_path = os.path.join(source_path, t[folder + (batch * batch_size)].strip().split(';')[0], img_name)\n",
    "                    image = Image.open(img_path).resize((x, y))\n",
    "                    if do_horizontal_flip:\n",
    "                        image = image.transpose(Image.FLIP_LEFT_RIGHT)\n",
    "                    # Apply a random rotation\n",
    "                    angle = random.uniform(-10, 10)\n",
    "                    image = ndimage.rotate(np.array(image), angle, reshape=False)\n",
    "                    batch_data[folder, idx, :, :, :] = np.clip(image / 255.0, 0, 1)  # Normalize and clip\n",
    "\n",
    "                # One-hot encode labels\n",
    "                batch_labels[folder, int(t[folder + (batch * batch_size)].strip().split(';')[2])] = 1\n",
    "            yield batch_data, batch_labels\n",
    "\n",
    "        # Handle the remaining data points\n",
    "        if num_remaining > 0 and (max_samples is None or (batch + 1) * batch_size < total_samples):\n",
    "            batch_data = np.zeros((num_remaining, num_frames_to_select, y, x, 3))\n",
    "            batch_labels = np.zeros((num_remaining, 5))\n",
    "            for folder in range(num_remaining):\n",
    "                if folder + (num_batches * batch_size) >= total_samples:\n",
    "                    break\n",
    "                imgs = sorted(os.listdir(os.path.join(source_path, t[folder + (num_batches * batch_size)].split(';')[0])))[:num_frames_to_select]\n",
    "                \n",
    "                # Temporal and spatial augmentation as before\n",
    "                start_frame = random.randint(0, len(imgs) - num_frames_to_select)\n",
    "                imgs = imgs[start_frame:start_frame + num_frames_to_select]\n",
    "                do_horizontal_flip = random.random() < 0.5\n",
    "                for idx, img_name in enumerate(imgs):\n",
    "                    img_path = os.path.join(source_path, t[folder + (num_batches * batch_size)].strip().split(';')[0], img_name)\n",
    "                    image = Image.open(img_path).resize((x, y))\n",
    "                    if do_horizontal_flip:\n",
    "                        image = image.transpose(Image.FLIP_LEFT_RIGHT)\n",
    "                    angle = random.uniform(-10, 10)\n",
    "                    image = ndimage.rotate(np.array(image), angle, reshape=False)\n",
    "                    batch_data[folder, idx, :, :, :] = np.clip(image / 255.0, 0, 1)\n",
    "                \n",
    "                batch_labels[folder, int(t[folder + (num_batches * batch_size)].strip().split(';')[2])] = 1\n",
    "            yield batch_data, batch_labels"
   ]
  },
  {
   "cell_type": "code",
   "execution_count": 18,
   "metadata": {},
   "outputs": [],
   "source": [
    "num_epochs = 40\n",
    "max_sample = None\n",
    "batch_size = 16\n",
    "\n",
    "train_generator = generator_updated(train_path, train_doc, batch_size, max_sample)\n",
    "val_generator = generator_updated(val_path, val_doc, batch_size, 100)"
   ]
  },
  {
   "cell_type": "code",
   "execution_count": 19,
   "metadata": {},
   "outputs": [],
   "source": [
    "model = Sequential()\n",
    "\n",
    "# First layer - Conv3D\n",
    "model.add(Conv3D(32, (3, 3, 3), activation='relu', input_shape=input_shape, kernel_regularizer=l2(0.001)))\n",
    "model.add(BatchNormalization())\n",
    "model.add(MaxPooling3D(pool_size=(2, 2, 2)))\n",
    "\n",
    "# Second layer - Conv3D\n",
    "model.add(Conv3D(64, (3, 3, 3), activation='relu', kernel_regularizer=l2(0.001)))\n",
    "model.add(BatchNormalization())\n",
    "model.add(MaxPooling3D(pool_size=(2, 2, 2)))\n",
    "model.add(Dropout(0.5))\n",
    "\n",
    "# Flatten and Dense layers\n",
    "model.add(Flatten())\n",
    "model.add(Dense(128, activation='relu'))\n",
    "model.add(Dropout(0.5))\n",
    "model.add(Dense(num_classes, activation='softmax'))  # Softmax for multi-class classification"
   ]
  },
  {
   "cell_type": "code",
   "execution_count": 20,
   "metadata": {},
   "outputs": [
    {
     "name": "stdout",
     "output_type": "stream",
     "text": [
      "Model: \"sequential_1\"\n",
      "_________________________________________________________________\n",
      " Layer (type)                Output Shape              Param #   \n",
      "=================================================================\n",
      " conv3d_2 (Conv3D)           (None, 28, 98, 98, 32)    2624      \n",
      "                                                                 \n",
      " batch_normalization_2 (Batc  (None, 28, 98, 98, 32)   128       \n",
      " hNormalization)                                                 \n",
      "                                                                 \n",
      " max_pooling3d_2 (MaxPooling  (None, 14, 49, 49, 32)   0         \n",
      " 3D)                                                             \n",
      "                                                                 \n",
      " conv3d_3 (Conv3D)           (None, 12, 47, 47, 64)    55360     \n",
      "                                                                 \n",
      " batch_normalization_3 (Batc  (None, 12, 47, 47, 64)   256       \n",
      " hNormalization)                                                 \n",
      "                                                                 \n",
      " max_pooling3d_3 (MaxPooling  (None, 6, 23, 23, 64)    0         \n",
      " 3D)                                                             \n",
      "                                                                 \n",
      " dropout_1 (Dropout)         (None, 6, 23, 23, 64)     0         \n",
      "                                                                 \n",
      " flatten_1 (Flatten)         (None, 203136)            0         \n",
      "                                                                 \n",
      " dense_2 (Dense)             (None, 128)               26001536  \n",
      "                                                                 \n",
      " dropout_2 (Dropout)         (None, 128)               0         \n",
      "                                                                 \n",
      " dense_3 (Dense)             (None, 5)                 645       \n",
      "                                                                 \n",
      "=================================================================\n",
      "Total params: 26,060,549\n",
      "Trainable params: 26,060,357\n",
      "Non-trainable params: 192\n",
      "_________________________________________________________________\n",
      "None\n"
     ]
    }
   ],
   "source": [
    "optimiser = Adam(learning_rate=0.0001) #write your optimizer\n",
    "model.compile(optimizer=optimiser, loss='categorical_crossentropy', metrics=['categorical_accuracy'])\n",
    "print (model.summary())"
   ]
  },
  {
   "cell_type": "code",
   "execution_count": 22,
   "metadata": {},
   "outputs": [
    {
     "name": "stdout",
     "output_type": "stream",
     "text": [
      "Source path =  /home/datasets/Project_data/train/ ; batch size = 16\n",
      "Epoch 1/40\n",
      "23/23 [==============================] - ETA: 0s - loss: 6.1814 - categorical_accuracy: 0.3071Source path =  /home/datasets/Project_data/val/ ; batch size = 16\n",
      "\n",
      "Epoch 00001: saving model to model_init_2023-12-2706_06_45.143002/model-00001-6.18141-0.30707-1.74936-0.21875.h5\n",
      "23/23 [==============================] - 109s 5s/step - loss: 6.1814 - categorical_accuracy: 0.3071 - val_loss: 1.7494 - val_categorical_accuracy: 0.2188 - lr: 1.0000e-04\n",
      "Epoch 2/40\n",
      "23/23 [==============================] - ETA: 0s - loss: 1.9387 - categorical_accuracy: 0.2953\n",
      "Epoch 00002: saving model to model_init_2023-12-2706_06_45.143002/model-00002-1.93873-0.29526-1.58201-0.32692.h5\n",
      "23/23 [==============================] - 104s 5s/step - loss: 1.9387 - categorical_accuracy: 0.2953 - val_loss: 1.5820 - val_categorical_accuracy: 0.3269 - lr: 1.0000e-04\n",
      "Epoch 3/40\n",
      "23/23 [==============================] - ETA: 0s - loss: 1.6470 - categorical_accuracy: 0.2880\n",
      "Epoch 00003: saving model to model_init_2023-12-2706_06_45.143002/model-00003-1.64695-0.28804-2.49919-0.32692.h5\n",
      "23/23 [==============================] - 106s 5s/step - loss: 1.6470 - categorical_accuracy: 0.2880 - val_loss: 2.4992 - val_categorical_accuracy: 0.3269 - lr: 1.0000e-04\n",
      "Epoch 4/40\n",
      "23/23 [==============================] - ETA: 0s - loss: 1.5846 - categorical_accuracy: 0.3370\n",
      "Epoch 00004: saving model to model_init_2023-12-2706_06_45.143002/model-00004-1.58463-0.33705-4.54881-0.28125.h5\n",
      "23/23 [==============================] - 104s 5s/step - loss: 1.5846 - categorical_accuracy: 0.3370 - val_loss: 4.5488 - val_categorical_accuracy: 0.2812 - lr: 1.0000e-04\n",
      "Epoch 5/40\n",
      "23/23 [==============================] - ETA: 0s - loss: 1.5589 - categorical_accuracy: 0.4022\n",
      "Epoch 00005: saving model to model_init_2023-12-2706_06_45.143002/model-00005-1.55893-0.40217-5.51326-0.28846.h5\n",
      "23/23 [==============================] - 105s 5s/step - loss: 1.5589 - categorical_accuracy: 0.4022 - val_loss: 5.5133 - val_categorical_accuracy: 0.2885 - lr: 1.0000e-04\n",
      "Epoch 6/40\n",
      "23/23 [==============================] - ETA: 0s - loss: 1.6476 - categorical_accuracy: 0.3203\n",
      "Epoch 00006: saving model to model_init_2023-12-2706_06_45.143002/model-00006-1.64761-0.32033-8.93327-0.17308.h5\n",
      "23/23 [==============================] - 102s 5s/step - loss: 1.6476 - categorical_accuracy: 0.3203 - val_loss: 8.9333 - val_categorical_accuracy: 0.1731 - lr: 1.0000e-04\n",
      "Epoch 7/40\n",
      "23/23 [==============================] - ETA: 0s - loss: 1.5525 - categorical_accuracy: 0.3560\n",
      "Epoch 00007: saving model to model_init_2023-12-2706_06_45.143002/model-00007-1.55249-0.35598-9.65343-0.21875.h5\n",
      "23/23 [==============================] - 105s 5s/step - loss: 1.5525 - categorical_accuracy: 0.3560 - val_loss: 9.6534 - val_categorical_accuracy: 0.2188 - lr: 1.0000e-04\n",
      "Epoch 8/40\n",
      "23/23 [==============================] - ETA: 0s - loss: 1.5234 - categorical_accuracy: 0.4095\n",
      "Epoch 00008: saving model to model_init_2023-12-2706_06_45.143002/model-00008-1.52342-0.40947-10.92152-0.17188.h5\n",
      "23/23 [==============================] - 104s 5s/step - loss: 1.5234 - categorical_accuracy: 0.4095 - val_loss: 10.9215 - val_categorical_accuracy: 0.1719 - lr: 1.0000e-04\n",
      "Epoch 9/40\n",
      "23/23 [==============================] - ETA: 0s - loss: 1.4906 - categorical_accuracy: 0.3995\n",
      "Epoch 00009: saving model to model_init_2023-12-2706_06_45.143002/model-00009-1.49063-0.39946-10.56119-0.25000.h5\n",
      "23/23 [==============================] - 102s 5s/step - loss: 1.4906 - categorical_accuracy: 0.3995 - val_loss: 10.5612 - val_categorical_accuracy: 0.2500 - lr: 1.0000e-04\n",
      "Epoch 10/40\n",
      "23/23 [==============================] - ETA: 0s - loss: 1.4114 - categorical_accuracy: 0.3983\n",
      "Epoch 00010: saving model to model_init_2023-12-2706_06_45.143002/model-00010-1.41136-0.39833-13.63874-0.17308.h5\n",
      "23/23 [==============================] - 99s 4s/step - loss: 1.4114 - categorical_accuracy: 0.3983 - val_loss: 13.6387 - val_categorical_accuracy: 0.1731 - lr: 1.0000e-04\n",
      "Epoch 11/40\n",
      "23/23 [==============================] - ETA: 0s - loss: 1.3158 - categorical_accuracy: 0.4373\n",
      "Epoch 00011: saving model to model_init_2023-12-2706_06_45.143002/model-00011-1.31580-0.43733-9.63446-0.26562.h5\n",
      "23/23 [==============================] - 105s 5s/step - loss: 1.3158 - categorical_accuracy: 0.4373 - val_loss: 9.6345 - val_categorical_accuracy: 0.2656 - lr: 1.0000e-04\n",
      "Epoch 12/40\n",
      "23/23 [==============================] - ETA: 0s - loss: 1.3331 - categorical_accuracy: 0.4348\n",
      "Epoch 00012: saving model to model_init_2023-12-2706_06_45.143002/model-00012-1.33313-0.43478-10.02027-0.23077.h5\n",
      "23/23 [==============================] - 102s 5s/step - loss: 1.3331 - categorical_accuracy: 0.4348 - val_loss: 10.0203 - val_categorical_accuracy: 0.2308 - lr: 1.0000e-04\n",
      "Epoch 13/40\n",
      "23/23 [==============================] - ETA: 0s - loss: 1.4367 - categorical_accuracy: 0.3983\n",
      "Epoch 00013: saving model to model_init_2023-12-2706_06_45.143002/model-00013-1.43673-0.39833-6.35377-0.19231.h5\n",
      "23/23 [==============================] - 102s 5s/step - loss: 1.4367 - categorical_accuracy: 0.3983 - val_loss: 6.3538 - val_categorical_accuracy: 0.1923 - lr: 1.0000e-04\n",
      "Epoch 14/40\n",
      "23/23 [==============================] - ETA: 0s - loss: 1.3462 - categorical_accuracy: 0.4266\n",
      "Epoch 00014: saving model to model_init_2023-12-2706_06_45.143002/model-00014-1.34619-0.42663-5.13717-0.31250.h5\n",
      "23/23 [==============================] - 103s 5s/step - loss: 1.3462 - categorical_accuracy: 0.4266 - val_loss: 5.1372 - val_categorical_accuracy: 0.3125 - lr: 1.0000e-04\n",
      "Epoch 15/40\n",
      "23/23 [==============================] - ETA: 0s - loss: 1.5087 - categorical_accuracy: 0.4373\n",
      "Epoch 00015: saving model to model_init_2023-12-2706_06_45.143002/model-00015-1.50874-0.43733-5.22198-0.28125.h5\n",
      "23/23 [==============================] - 105s 5s/step - loss: 1.5087 - categorical_accuracy: 0.4373 - val_loss: 5.2220 - val_categorical_accuracy: 0.2812 - lr: 1.0000e-04\n",
      "Epoch 16/40\n",
      "23/23 [==============================] - ETA: 0s - loss: 1.4471 - categorical_accuracy: 0.3832\n",
      "Epoch 00016: saving model to model_init_2023-12-2706_06_45.143002/model-00016-1.44711-0.38315-4.77828-0.30769.h5\n",
      "23/23 [==============================] - 102s 5s/step - loss: 1.4471 - categorical_accuracy: 0.3832 - val_loss: 4.7783 - val_categorical_accuracy: 0.3077 - lr: 1.0000e-04\n",
      "Epoch 17/40\n",
      "23/23 [==============================] - ETA: 0s - loss: 1.4592 - categorical_accuracy: 0.4067\n",
      "Epoch 00017: saving model to model_init_2023-12-2706_06_45.143002/model-00017-1.45919-0.40669-2.96476-0.34615.h5\n",
      "23/23 [==============================] - 100s 5s/step - loss: 1.4592 - categorical_accuracy: 0.4067 - val_loss: 2.9648 - val_categorical_accuracy: 0.3462 - lr: 1.0000e-04\n",
      "Epoch 18/40\n",
      "23/23 [==============================] - ETA: 0s - loss: 1.3730 - categorical_accuracy: 0.4538\n",
      "Epoch 00018: saving model to model_init_2023-12-2706_06_45.143002/model-00018-1.37300-0.45380-2.31710-0.42188.h5\n",
      "23/23 [==============================] - 105s 5s/step - loss: 1.3730 - categorical_accuracy: 0.4538 - val_loss: 2.3171 - val_categorical_accuracy: 0.4219 - lr: 1.0000e-04\n",
      "Epoch 19/40\n",
      "23/23 [==============================] - ETA: 0s - loss: 1.2665 - categorical_accuracy: 0.4986\n",
      "Epoch 00019: saving model to model_init_2023-12-2706_06_45.143002/model-00019-1.26654-0.49861-1.50310-0.50000.h5\n",
      "23/23 [==============================] - 101s 5s/step - loss: 1.2665 - categorical_accuracy: 0.4986 - val_loss: 1.5031 - val_categorical_accuracy: 0.5000 - lr: 1.0000e-04\n",
      "Epoch 20/40\n",
      "23/23 [==============================] - ETA: 0s - loss: 1.4740 - categorical_accuracy: 0.4647\n",
      "Epoch 00020: saving model to model_init_2023-12-2706_06_45.143002/model-00020-1.47396-0.46467-1.29148-0.44231.h5\n",
      "23/23 [==============================] - 106s 5s/step - loss: 1.4740 - categorical_accuracy: 0.4647 - val_loss: 1.2915 - val_categorical_accuracy: 0.4423 - lr: 1.0000e-04\n",
      "Epoch 21/40\n",
      "23/23 [==============================] - ETA: 0s - loss: 1.3392 - categorical_accuracy: 0.3983\n",
      "Epoch 00021: saving model to model_init_2023-12-2706_06_45.143002/model-00021-1.33921-0.39833-1.47652-0.46875.h5\n",
      "23/23 [==============================] - 99s 4s/step - loss: 1.3392 - categorical_accuracy: 0.3983 - val_loss: 1.4765 - val_categorical_accuracy: 0.4688 - lr: 1.0000e-04\n",
      "Epoch 22/40\n",
      "23/23 [==============================] - ETA: 0s - loss: 1.2840 - categorical_accuracy: 0.4234\n",
      "Epoch 00022: saving model to model_init_2023-12-2706_06_45.143002/model-00022-1.28404-0.42340-1.31375-0.50000.h5\n",
      "23/23 [==============================] - 104s 5s/step - loss: 1.2840 - categorical_accuracy: 0.4234 - val_loss: 1.3137 - val_categorical_accuracy: 0.5000 - lr: 1.0000e-04\n",
      "Epoch 23/40\n",
      "23/23 [==============================] - ETA: 0s - loss: 1.3151 - categorical_accuracy: 0.4293\n",
      "Epoch 00023: saving model to model_init_2023-12-2706_06_45.143002/model-00023-1.31513-0.42935-1.14068-0.57692.h5\n",
      "23/23 [==============================] - 104s 5s/step - loss: 1.3151 - categorical_accuracy: 0.4293 - val_loss: 1.1407 - val_categorical_accuracy: 0.5769 - lr: 1.0000e-04\n",
      "Epoch 24/40\n",
      "23/23 [==============================] - ETA: 0s - loss: 1.3370 - categorical_accuracy: 0.4262\n",
      "Epoch 00024: saving model to model_init_2023-12-2706_06_45.143002/model-00024-1.33698-0.42618-1.87260-0.34615.h5\n",
      "23/23 [==============================] - 101s 5s/step - loss: 1.3370 - categorical_accuracy: 0.4262 - val_loss: 1.8726 - val_categorical_accuracy: 0.3462 - lr: 1.0000e-04\n",
      "Epoch 25/40\n",
      "23/23 [==============================] - ETA: 0s - loss: 1.3195 - categorical_accuracy: 0.4429\n",
      "Epoch 00025: saving model to model_init_2023-12-2706_06_45.143002/model-00025-1.31950-0.44293-1.30172-0.50000.h5\n",
      "23/23 [==============================] - 108s 5s/step - loss: 1.3195 - categorical_accuracy: 0.4429 - val_loss: 1.3017 - val_categorical_accuracy: 0.5000 - lr: 1.0000e-04\n",
      "Epoch 26/40\n",
      "23/23 [==============================] - ETA: 0s - loss: 1.3113 - categorical_accuracy: 0.4234\n",
      "Epoch 00026: saving model to model_init_2023-12-2706_06_45.143002/model-00026-1.31129-0.42340-1.04452-0.53846.h5\n",
      "23/23 [==============================] - 101s 5s/step - loss: 1.3113 - categorical_accuracy: 0.4234 - val_loss: 1.0445 - val_categorical_accuracy: 0.5385 - lr: 1.0000e-04\n",
      "Epoch 27/40\n",
      "23/23 [==============================] - ETA: 0s - loss: 1.1992 - categorical_accuracy: 0.4538\n",
      "Epoch 00027: saving model to model_init_2023-12-2706_06_45.143002/model-00027-1.19919-0.45380-1.29607-0.46154.h5\n",
      "23/23 [==============================] - 105s 5s/step - loss: 1.1992 - categorical_accuracy: 0.4538 - val_loss: 1.2961 - val_categorical_accuracy: 0.4615 - lr: 1.0000e-04\n",
      "Epoch 28/40\n",
      "23/23 [==============================] - ETA: 0s - loss: 1.2474 - categorical_accuracy: 0.4624\n",
      "Epoch 00028: saving model to model_init_2023-12-2706_06_45.143002/model-00028-1.24739-0.46240-1.35303-0.53125.h5\n",
      "23/23 [==============================] - 101s 5s/step - loss: 1.2474 - categorical_accuracy: 0.4624 - val_loss: 1.3530 - val_categorical_accuracy: 0.5312 - lr: 1.0000e-04\n",
      "Epoch 29/40\n",
      "23/23 [==============================] - ETA: 0s - loss: 1.2756 - categorical_accuracy: 0.4918\n",
      "Epoch 00029: saving model to model_init_2023-12-2706_06_45.143002/model-00029-1.27559-0.49185-1.34854-0.48438.h5\n",
      "23/23 [==============================] - 106s 5s/step - loss: 1.2756 - categorical_accuracy: 0.4918 - val_loss: 1.3485 - val_categorical_accuracy: 0.4844 - lr: 1.0000e-04\n",
      "Epoch 30/40\n",
      "23/23 [==============================] - ETA: 0s - loss: 1.1995 - categorical_accuracy: 0.5042\n",
      "Epoch 00030: saving model to model_init_2023-12-2706_06_45.143002/model-00030-1.19947-0.50418-0.95533-0.57692.h5\n",
      "23/23 [==============================] - 101s 5s/step - loss: 1.1995 - categorical_accuracy: 0.5042 - val_loss: 0.9553 - val_categorical_accuracy: 0.5769 - lr: 1.0000e-04\n",
      "Epoch 31/40\n",
      "23/23 [==============================] - ETA: 0s - loss: 1.2007 - categorical_accuracy: 0.5109\n",
      "Epoch 00031: saving model to model_init_2023-12-2706_06_45.143002/model-00031-1.20073-0.51087-1.36248-0.44231.h5\n",
      "23/23 [==============================] - 105s 5s/step - loss: 1.2007 - categorical_accuracy: 0.5109 - val_loss: 1.3625 - val_categorical_accuracy: 0.4423 - lr: 1.0000e-04\n",
      "Epoch 32/40\n",
      "23/23 [==============================] - ETA: 0s - loss: 1.0970 - categorical_accuracy: 0.5822\n",
      "Epoch 00032: saving model to model_init_2023-12-2706_06_45.143002/model-00032-1.09696-0.58217-1.27362-0.53125.h5\n",
      "23/23 [==============================] - 106s 5s/step - loss: 1.0970 - categorical_accuracy: 0.5822 - val_loss: 1.2736 - val_categorical_accuracy: 0.5312 - lr: 1.0000e-04\n",
      "Epoch 33/40\n",
      "23/23 [==============================] - ETA: 0s - loss: 1.1356 - categorical_accuracy: 0.5181\n",
      "Epoch 00033: saving model to model_init_2023-12-2706_06_45.143002/model-00033-1.13564-0.51811-1.06442-0.57692.h5\n",
      "23/23 [==============================] - 103s 5s/step - loss: 1.1356 - categorical_accuracy: 0.5181 - val_loss: 1.0644 - val_categorical_accuracy: 0.5769 - lr: 1.0000e-04\n",
      "Epoch 34/40\n",
      "23/23 [==============================] - ETA: 0s - loss: 1.1681 - categorical_accuracy: 0.5082\n",
      "Epoch 00034: saving model to model_init_2023-12-2706_06_45.143002/model-00034-1.16813-0.50815-0.92351-0.63462.h5\n",
      "23/23 [==============================] - 104s 5s/step - loss: 1.1681 - categorical_accuracy: 0.5082 - val_loss: 0.9235 - val_categorical_accuracy: 0.6346 - lr: 1.0000e-04\n",
      "Epoch 35/40\n",
      "23/23 [==============================] - ETA: 0s - loss: 1.2371 - categorical_accuracy: 0.4429\n",
      "Epoch 00035: saving model to model_init_2023-12-2706_06_45.143002/model-00035-1.23708-0.44290-1.22799-0.46875.h5\n",
      "23/23 [==============================] - 103s 5s/step - loss: 1.2371 - categorical_accuracy: 0.4429 - val_loss: 1.2280 - val_categorical_accuracy: 0.4688 - lr: 1.0000e-04\n",
      "Epoch 36/40\n",
      "23/23 [==============================] - ETA: 0s - loss: 1.1788 - categorical_accuracy: 0.5245\n",
      "Epoch 00036: saving model to model_init_2023-12-2706_06_45.143002/model-00036-1.17880-0.52446-1.28138-0.57812.h5\n",
      "23/23 [==============================] - 107s 5s/step - loss: 1.1788 - categorical_accuracy: 0.5245 - val_loss: 1.2814 - val_categorical_accuracy: 0.5781 - lr: 1.0000e-04\n",
      "Epoch 37/40\n",
      "23/23 [==============================] - ETA: 0s - loss: 1.1752 - categorical_accuracy: 0.5571\n",
      "Epoch 00037: saving model to model_init_2023-12-2706_06_45.143002/model-00037-1.17518-0.55710-1.23289-0.44231.h5\n",
      "23/23 [==============================] - 99s 4s/step - loss: 1.1752 - categorical_accuracy: 0.5571 - val_loss: 1.2329 - val_categorical_accuracy: 0.4423 - lr: 1.0000e-04\n",
      "Epoch 38/40\n",
      "23/23 [==============================] - ETA: 0s - loss: 1.0935 - categorical_accuracy: 0.5136\n",
      "Epoch 00038: saving model to model_init_2023-12-2706_06_45.143002/model-00038-1.09346-0.51359-1.50409-0.46154.h5\n",
      "23/23 [==============================] - 102s 5s/step - loss: 1.0935 - categorical_accuracy: 0.5136 - val_loss: 1.5041 - val_categorical_accuracy: 0.4615 - lr: 1.0000e-04\n",
      "Epoch 39/40\n",
      "23/23 [==============================] - ETA: 0s - loss: 1.1164 - categorical_accuracy: 0.5292\n",
      "Epoch 00039: saving model to model_init_2023-12-2706_06_45.143002/model-00039-1.11642-0.52925-1.05524-0.51562.h5\n",
      "23/23 [==============================] - 106s 5s/step - loss: 1.1164 - categorical_accuracy: 0.5292 - val_loss: 1.0552 - val_categorical_accuracy: 0.5156 - lr: 1.0000e-04\n",
      "Epoch 40/40\n",
      "23/23 [==============================] - ETA: 0s - loss: 1.0333 - categorical_accuracy: 0.5734\n",
      "Epoch 00040: saving model to model_init_2023-12-2706_06_45.143002/model-00040-1.03327-0.57337-1.13812-0.63462.h5\n",
      "23/23 [==============================] - 104s 5s/step - loss: 1.0333 - categorical_accuracy: 0.5734 - val_loss: 1.1381 - val_categorical_accuracy: 0.6346 - lr: 1.0000e-04\n"
     ]
    }
   ],
   "source": [
    "history = model.fit(train_generator, steps_per_epoch=steps_per_epoch, epochs=num_epochs, verbose=1, \n",
    "                    callbacks=callbacks_list, validation_data=val_generator, \n",
    "                    validation_steps=validation_steps, class_weight=None, workers=1, initial_epoch=0)"
   ]
  },
  {
   "cell_type": "code",
   "execution_count": 23,
   "metadata": {},
   "outputs": [
    {
     "data": {
      "image/png": "[encoded data removed]",
      "text/plain": [
       "<Figure size 432x288 with 1 Axes>"
      ]
     },
     "metadata": {
      "needs_background": "light"
     },
     "output_type": "display_data"
    }
   ],
   "source": [
    "# Plot training & validation accuracy values\n",
    "plt.plot(history.history['categorical_accuracy'])\n",
    "plt.plot(history.history['val_categorical_accuracy'])\n",
    "plt.title('Model Accuracy')\n",
    "plt.ylabel('Accuracy')\n",
    "plt.xlabel('Epoch')\n",
    "plt.legend(['Train', 'Validation'], loc='upper left')\n",
    "plt.show()"
   ]
  },
  {
   "cell_type": "code",
   "execution_count": 24,
   "metadata": {},
   "outputs": [
    {
     "data": {
      "image/png": "[encoded data removed]",
      "text/plain": [
       "<Figure size 432x288 with 1 Axes>"
      ]
     },
     "metadata": {
      "needs_background": "light"
     },
     "output_type": "display_data"
    }
   ],
   "source": [
    "# Plot training & validation loss values\n",
    "plt.plot(history.history['loss'])\n",
    "plt.plot(history.history['val_loss'])\n",
    "plt.title('Model Loss')\n",
    "plt.ylabel('Loss')\n",
    "plt.xlabel('Epoch')\n",
    "plt.legend(['Train', 'Validation'], loc='upper left')\n",
    "plt.show()"
   ]
  },
  {
   "cell_type": "markdown",
   "metadata": {},
   "source": [
    "Observation \n",
    "- Learning Progress: Both the training and validation accuracies are improving over time, which indicates that the model is learning and benefiting from the training process.\n",
    "- Potential for Improvement: The training accuracy has not plateaued by the 30th epoch, indicating that the model may continue to improve with additional training.\n",
    "\n",
    "Next Step\n",
    "- Continuing training for more epochs until the training accuracy plateaus or until the validation accuracy begins to decrease, indicating overfitting."
   ]
  },
  {
   "cell_type": "markdown",
   "metadata": {},
   "source": [
    "Experiment 3\n",
    " Increase no. of epoch to 45"
   ]
  },
  {
   "cell_type": "code",
   "execution_count": 26,
   "metadata": {},
   "outputs": [],
   "source": [
    "num_epochs = 40\n",
    "max_sample = None\n",
    "batch_size = 20\n",
    "\n",
    "train_generator = generator_updated(train_path, train_doc, batch_size, max_sample)\n",
    "val_generator = generator_updated(val_path, val_doc, batch_size, 100)"
   ]
  },
  {
   "cell_type": "code",
   "execution_count": 27,
   "metadata": {},
   "outputs": [],
   "source": [
    "model = Sequential()\n",
    "\n",
    "# First layer - Conv3D\n",
    "model.add(Conv3D(32, (3, 3, 3), activation='relu', input_shape=input_shape, kernel_regularizer=l2(0.001)))\n",
    "model.add(BatchNormalization())\n",
    "model.add(MaxPooling3D(pool_size=(2, 2, 2)))\n",
    "\n",
    "# Second layer - Conv3D\n",
    "model.add(Conv3D(64, (3, 3, 3), activation='relu', kernel_regularizer=l2(0.001)))\n",
    "model.add(BatchNormalization())\n",
    "model.add(MaxPooling3D(pool_size=(2, 2, 2)))\n",
    "model.add(Dropout(0.5))\n",
    "\n",
    "# Flatten and Dense layers\n",
    "model.add(Flatten())\n",
    "model.add(Dense(128, activation='relu'))\n",
    "model.add(Dropout(0.5))\n",
    "model.add(Dense(num_classes, activation='softmax'))  # Softmax for multi-class classification"
   ]
  },
  {
   "cell_type": "code",
   "execution_count": 28,
   "metadata": {},
   "outputs": [
    {
     "name": "stdout",
     "output_type": "stream",
     "text": [
      "Model: \"sequential_3\"\n",
      "_________________________________________________________________\n",
      " Layer (type)                Output Shape              Param #   \n",
      "=================================================================\n",
      " conv3d_7 (Conv3D)           (None, 28, 98, 98, 32)    2624      \n",
      "                                                                 \n",
      " batch_normalization_7 (Batc  (None, 28, 98, 98, 32)   128       \n",
      " hNormalization)                                                 \n",
      "                                                                 \n",
      " max_pooling3d_7 (MaxPooling  (None, 14, 49, 49, 32)   0         \n",
      " 3D)                                                             \n",
      "                                                                 \n",
      " conv3d_8 (Conv3D)           (None, 12, 47, 47, 64)    55360     \n",
      "                                                                 \n",
      " batch_normalization_8 (Batc  (None, 12, 47, 47, 64)   256       \n",
      " hNormalization)                                                 \n",
      "                                                                 \n",
      " max_pooling3d_8 (MaxPooling  (None, 6, 23, 23, 64)    0         \n",
      " 3D)                                                             \n",
      "                                                                 \n",
      " dropout_5 (Dropout)         (None, 6, 23, 23, 64)     0         \n",
      "                                                                 \n",
      " flatten_3 (Flatten)         (None, 203136)            0         \n",
      "                                                                 \n",
      " dense_6 (Dense)             (None, 128)               26001536  \n",
      "                                                                 \n",
      " dropout_6 (Dropout)         (None, 128)               0         \n",
      "                                                                 \n",
      " dense_7 (Dense)             (None, 5)                 645       \n",
      "                                                                 \n",
      "=================================================================\n",
      "Total params: 26,060,549\n",
      "Trainable params: 26,060,357\n",
      "Non-trainable params: 192\n",
      "_________________________________________________________________\n",
      "None\n"
     ]
    }
   ],
   "source": [
    "optimiser = Adam(learning_rate=0.0001) #write your optimizer\n",
    "model.compile(optimizer=optimiser, loss='categorical_crossentropy', metrics=['categorical_accuracy'])\n",
    "print (model.summary())"
   ]
  },
  {
   "cell_type": "code",
   "execution_count": 29,
   "metadata": {},
   "outputs": [
    {
     "name": "stdout",
     "output_type": "stream",
     "text": [
      "Source path =  /home/datasets/Project_data/train/ ; batch size = 20\n",
      "Epoch 1/40\n",
      "42/42 [==============================] - ETA: 0s - loss: 3.3725 - categorical_accuracy: 0.3402Source path =  /home/datasets/Project_data/val/ ; batch size = 20\n",
      "\n",
      "Epoch 00001: saving model to model_init_2023-12-2710_19_38.154816/model-00001-3.37251-0.34022-2.80261-0.17857.h5\n",
      "42/42 [==============================] - 222s 5s/step - loss: 3.3725 - categorical_accuracy: 0.3402 - val_loss: 2.8026 - val_categorical_accuracy: 0.1786 - lr: 1.0000e-04\n",
      "Epoch 2/40\n",
      "42/42 [==============================] - ETA: 0s - loss: 1.4644 - categorical_accuracy: 0.3827\n",
      "Epoch 00002: saving model to model_init_2023-12-2710_19_38.154816/model-00002-1.46444-0.38275-5.12621-0.21429.h5\n",
      "42/42 [==============================] - 221s 5s/step - loss: 1.4644 - categorical_accuracy: 0.3827 - val_loss: 5.1262 - val_categorical_accuracy: 0.2143 - lr: 1.0000e-04\n",
      "Epoch 3/40\n",
      "42/42 [==============================] - ETA: 0s - loss: 1.4099 - categorical_accuracy: 0.4362\n",
      "Epoch 00003: saving model to model_init_2023-12-2710_19_38.154816/model-00003-1.40991-0.43621-5.09345-0.27857.h5\n",
      "42/42 [==============================] - 222s 5s/step - loss: 1.4099 - categorical_accuracy: 0.4362 - val_loss: 5.0935 - val_categorical_accuracy: 0.2786 - lr: 1.0000e-04\n",
      "Epoch 4/40\n",
      "42/42 [==============================] - ETA: 0s - loss: 0.9081 - categorical_accuracy: 0.6414\n",
      "Epoch 00017: saving model to model_init_2023-12-2710_19_38.154816/model-00017-0.90808-0.64144-1.15958-0.67143.h5\n",
      "42/42 [==============================] - 264s 6s/step - loss: 0.9081 - categorical_accuracy: 0.6414 - val_loss: 1.1596 - val_categorical_accuracy: 0.6714 - lr: 1.0000e-04\n",
      "Epoch 18/40\n",
      "42/42 [==============================] - ETA: 0s - loss: 0.8628 - categorical_accuracy: 0.6464\n",
      "Epoch 00018: saving model to model_init_2023-12-2710_19_38.154816/model-00018-0.86278-0.64642-0.89666-0.71429.h5\n",
      "42/42 [==============================] - 244s 6s/step - loss: 0.8628 - categorical_accuracy: 0.6464 - val_loss: 0.8967 - val_categorical_accuracy: 0.7143 - lr: 1.0000e-04\n",
      "Epoch 19/40\n",
      "42/42 [==============================] - ETA: 0s - loss: 0.7817 - categorical_accuracy: 0.6683\n",
      "Epoch 00019: saving model to model_init_2023-12-2710_19_38.154816/model-00019-0.78172-0.66829-1.02817-0.69286.h5\n",
      "42/42 [==============================] - 236s 6s/step - loss: 0.7817 - categorical_accuracy: 0.6683 - val_loss: 1.0282 - val_categorical_accuracy: 0.6929 - lr: 1.0000e-04\n",
      "Epoch 20/40\n",
      "42/42 [==============================] - ETA: 0s - loss: 0.7337 - categorical_accuracy: 0.7120\n",
      "Epoch 00020: saving model to model_init_2023-12-2710_19_38.154816/model-00020-0.73367-0.71203-1.02603-0.72857.h5\n",
      "42/42 [==============================] - 244s 6s/step - loss: 0.7337 - categorical_accuracy: 0.7120 - val_loss: 1.0260 - val_categorical_accuracy: 0.7286 - lr: 1.0000e-04\n",
      "Epoch 21/40\n",
      "42/42 [==============================] - ETA: 0s - loss: 0.7892 - categorical_accuracy: 0.6731\n",
      "Epoch 00021: saving model to model_init_2023-12-2710_19_38.154816/model-00021-0.78917-0.67315-0.88603-0.73571.h5\n",
      "42/42 [==============================] - 238s 6s/step - loss: 0.7892 - categorical_accuracy: 0.6731 - val_loss: 0.8860 - val_categorical_accuracy: 0.7357 - lr: 1.0000e-04\n",
      "Epoch 22/40\n",
      "42/42 [==============================] - ETA: 0s - loss: 0.7198 - categorical_accuracy: 0.7283\n",
      "Epoch 00022: saving model to model_init_2023-12-2710_19_38.154816/model-00022-0.71978-0.72829-0.94339-0.67857.h5\n",
      "42/42 [==============================] - 237s 6s/step - loss: 0.7198 - categorical_accuracy: 0.7283 - val_loss: 0.9434 - val_categorical_accuracy: 0.6786 - lr: 1.0000e-04\n",
      "Epoch 23/40\n",
      "42/42 [==============================] - ETA: 0s - loss: 0.7843 - categorical_accuracy: 0.6999\n",
      "Epoch 00023: saving model to model_init_2023-12-2710_19_38.154816/model-00023-0.78432-0.69988-0.99301-0.67143.h5\n",
      "42/42 [==============================] - 234s 6s/step - loss: 0.7843 - categorical_accuracy: 0.6999 - val_loss: 0.9930 - val_categorical_accuracy: 0.6714 - lr: 1.0000e-04\n",
      "Epoch 24/40\n",
      "42/42 [==============================] - ETA: 0s - loss: 0.6960 - categorical_accuracy: 0.7266\n",
      "Epoch 00024: saving model to model_init_2023-12-2710_19_38.154816/model-00024-0.69600-0.72661-1.34247-0.66429.h5\n",
      "42/42 [==============================] - 237s 6s/step - loss: 0.6960 - categorical_accuracy: 0.7266 - val_loss: 1.3425 - val_categorical_accuracy: 0.6643 - lr: 1.0000e-04\n",
      "Epoch 25/40\n",
      "42/42 [==============================] - ETA: 0s - loss: 0.6859 - categorical_accuracy: 0.7375\n",
      "Epoch 00025: saving model to model_init_2023-12-2710_19_38.154816/model-00025-0.68585-0.73755-0.86763-0.74286.h5\n",
      "42/42 [==============================] - 226s 6s/step - loss: 0.6859 - categorical_accuracy: 0.7375 - val_loss: 0.8676 - val_categorical_accuracy: 0.7429 - lr: 1.0000e-04\n",
      "Epoch 26/40\n",
      "42/42 [==============================] - ETA: 0s - loss: 0.6082 - categorical_accuracy: 0.7494\n",
      "Epoch 00026: saving model to model_init_2023-12-2710_19_38.154816/model-00026-0.60822-0.74938-0.99244-0.77143.h5\n",
      "42/42 [==============================] - 224s 5s/step - loss: 0.6082 - categorical_accuracy: 0.7494 - val_loss: 0.9924 - val_categorical_accuracy: 0.7714 - lr: 1.0000e-04\n",
      "Epoch 27/40\n",
      "42/42 [==============================] - ETA: 0s - loss: 0.6146 - categorical_accuracy: 0.7631\n",
      "Epoch 00027: saving model to model_init_2023-12-2710_19_38.154816/model-00027-0.61458-0.76306-0.95702-0.73571.h5\n",
      "42/42 [==============================] - 223s 5s/step - loss: 0.6146 - categorical_accuracy: 0.7631 - val_loss: 0.9570 - val_categorical_accuracy: 0.7357 - lr: 1.0000e-04\n",
      "Epoch 28/40\n",
      "42/42 [==============================] - ETA: 0s - loss: 0.6017 - categorical_accuracy: 0.7631\n",
      "Epoch 00028: saving model to model_init_2023-12-2710_19_38.154816/model-00028-0.60168-0.76306-1.29777-0.67857.h5\n",
      "42/42 [==============================] - 227s 6s/step - loss: 0.6017 - categorical_accuracy: 0.7631 - val_loss: 1.2978 - val_categorical_accuracy: 0.6786 - lr: 1.0000e-04\n",
      "Epoch 29/40\n",
      "42/42 [==============================] - ETA: 0s - loss: 0.5726 - categorical_accuracy: 0.7801\n",
      "Epoch 00029: saving model to model_init_2023-12-2710_19_38.154816/model-00029-0.57259-0.78007-0.88299-0.75000.h5\n",
      "42/42 [==============================] - 228s 6s/step - loss: 0.5726 - categorical_accuracy: 0.7801 - val_loss: 0.8830 - val_categorical_accuracy: 0.7500 - lr: 1.0000e-04\n",
      "Epoch 30/40\n",
      "42/42 [==============================] - ETA: 0s - loss: 0.6492 - categorical_accuracy: 0.7519\n",
      "Epoch 00030: saving model to model_init_2023-12-2710_19_38.154816/model-00030-0.64917-0.75186-0.75122-0.77143.h5\n",
      "42/42 [==============================] - 219s 5s/step - loss: 0.6492 - categorical_accuracy: 0.7519 - val_loss: 0.7512 - val_categorical_accuracy: 0.7714 - lr: 1.0000e-04\n",
      "Epoch 31/40\n",
      "42/42 [==============================] - ETA: 0s - loss: 0.5717 - categorical_accuracy: 0.7898\n",
      "Epoch 00031: saving model to model_init_2023-12-2710_19_38.154816/model-00031-0.57167-0.78979-0.64379-0.80000.h5\n",
      "42/42 [==============================] - 222s 5s/step - loss: 0.5717 - categorical_accuracy: 0.7898 - val_loss: 0.6438 - val_categorical_accuracy: 0.8000 - lr: 1.0000e-04\n",
      "Epoch 32/40\n",
      "42/42 [==============================] - ETA: 0s - loss: 0.5716 - categorical_accuracy: 0.7898\n",
      "Epoch 00032: saving model to model_init_2023-12-2710_19_38.154816/model-00032-0.57161-0.78979-0.65425-0.80714.h5\n",
      "42/42 [==============================] - 224s 5s/step - loss: 0.5716 - categorical_accuracy: 0.7898 - val_loss: 0.6542 - val_categorical_accuracy: 0.8071 - lr: 1.0000e-04\n",
      "Epoch 33/40\n",
      "42/42 [==============================] - ETA: 0s - loss: 0.5701 - categorical_accuracy: 0.7874\n",
      "Epoch 00033: saving model to model_init_2023-12-2710_19_38.154816/model-00033-0.57006-0.78736-0.94214-0.72857.h5\n",
      "42/42 [==============================] - 228s 6s/step - loss: 0.5701 - categorical_accuracy: 0.7874 - val_loss: 0.9421 - val_categorical_accuracy: 0.7286 - lr: 1.0000e-04\n",
      "Epoch 34/40\n",
      "42/42 [==============================] - ETA: 0s - loss: 0.5188 - categorical_accuracy: 0.7953\n",
      "Epoch 00034: saving model to model_init_2023-12-2710_19_38.154816/model-00034-0.51878-0.79529-0.87962-0.71429.h5\n",
      "42/42 [==============================] - 221s 5s/step - loss: 0.5188 - categorical_accuracy: 0.7953 - val_loss: 0.8796 - val_categorical_accuracy: 0.7143 - lr: 1.0000e-04\n",
      "Epoch 35/40\n",
      "42/42 [==============================] - ETA: 0s - loss: 0.5772 - categorical_accuracy: 0.7922\n",
      "Epoch 00035: saving model to model_init_2023-12-2710_19_38.154816/model-00035-0.57725-0.79222-0.75659-0.75000.h5\n",
      "42/42 [==============================] - 225s 5s/step - loss: 0.5772 - categorical_accuracy: 0.7922 - val_loss: 0.7566 - val_categorical_accuracy: 0.7500 - lr: 1.0000e-04\n",
      "Epoch 36/40\n",
      "42/42 [==============================] - ETA: 0s - loss: 0.5288 - categorical_accuracy: 0.8092\n",
      "Epoch 00036: saving model to model_init_2023-12-2710_19_38.154816/model-00036-0.52876-0.80923-0.98202-0.72857.h5\n",
      "42/42 [==============================] - 228s 6s/step - loss: 0.5288 - categorical_accuracy: 0.8092 - val_loss: 0.9820 - val_categorical_accuracy: 0.7286 - lr: 1.0000e-04\n",
      "Epoch 37/40\n",
      "42/42 [==============================] - ETA: 0s - loss: 0.4590 - categorical_accuracy: 0.8165\n",
      "Epoch 00037: saving model to model_init_2023-12-2710_19_38.154816/model-00037-0.45896-0.81652-0.70623-0.76429.h5\n",
      "42/42 [==============================] - 225s 5s/step - loss: 0.4590 - categorical_accuracy: 0.8165 - val_loss: 0.7062 - val_categorical_accuracy: 0.7643 - lr: 1.0000e-04\n",
      "Epoch 38/40\n",
      "42/42 [==============================] - ETA: 0s - loss: 0.4744 - categorical_accuracy: 0.8238\n",
      "Epoch 00038: saving model to model_init_2023-12-2710_19_38.154816/model-00038-0.47441-0.82382-0.88315-0.75714.h5\n",
      "42/42 [==============================] - 225s 5s/step - loss: 0.4744 - categorical_accuracy: 0.8238 - val_loss: 0.8831 - val_categorical_accuracy: 0.7571 - lr: 1.0000e-04\n",
      "Epoch 39/40\n",
      "42/42 [==============================] - ETA: 0s - loss: 0.4073 - categorical_accuracy: 0.8573\n",
      "Epoch 00039: saving model to model_init_2023-12-2710_19_38.154816/model-00039-0.40728-0.85732-1.19590-0.70714.h5\n",
      "42/42 [==============================] - 218s 5s/step - loss: 0.4073 - categorical_accuracy: 0.8573 - val_loss: 1.1959 - val_categorical_accuracy: 0.7071 - lr: 1.0000e-04\n",
      "Epoch 40/40\n",
      "42/42 [==============================] - ETA: 0s - loss: 0.4738 - categorical_accuracy: 0.8335\n",
      "Epoch 00040: saving model to model_init_2023-12-2710_19_38.154816/model-00040-0.47383-0.83354-0.77881-0.71429.h5\n",
      "42/42 [==============================] - 232s 6s/step - loss: 0.4738 - categorical_accuracy: 0.8335 - val_loss: 0.7788 - val_categorical_accuracy: 0.7143 - lr: 1.0000e-04\n"
     ]
    }
   ],
   "source": [
    "history = model.fit(train_generator, steps_per_epoch=steps_per_epoch, epochs=num_epochs, verbose=1, \n",
    "                    callbacks=callbacks_list, validation_data=val_generator, \n",
    "                    validation_steps=validation_steps, class_weight=None, workers=1, initial_epoch=0)"
   ]
  },
  {
   "cell_type": "code",
   "execution_count": 30,
   "metadata": {},
   "outputs": [
    {
     "data": {
      "image/png": "[encoded data removed]",
      "text/plain": [
       "<Figure size 432x288 with 1 Axes>"
      ]
     },
     "metadata": {
      "needs_background": "light"
     },
     "output_type": "display_data"
    }
   ],
   "source": [
    "# Plot training & validation accuracy values\n",
    "plt.plot(history.history['categorical_accuracy'])\n",
    "plt.plot(history.history['val_categorical_accuracy'])\n",
    "plt.title('Model Accuracy')\n",
    "plt.ylabel('Accuracy')\n",
    "plt.xlabel('Epoch')\n",
    "plt.legend(['Train', 'Validation'], loc='upper left')\n",
    "plt.show()"
   ]
  },
  {
   "cell_type": "code",
   "execution_count": 31,
   "metadata": {},
   "outputs": [
    {
     "data": {
      "image/png": "[encoded data removed]",
      "text/plain": [
       "<Figure size 432x288 with 1 Axes>"
      ]
     },
     "metadata": {
      "needs_background": "light"
     },
     "output_type": "display_data"
    }
   ],
   "source": [
    "# Plot training & validation loss values\n",
    "plt.plot(history.history['loss'])\n",
    "plt.plot(history.history['val_loss'])\n",
    "plt.title('Model Loss')\n",
    "plt.ylabel('Loss')\n",
    "plt.xlabel('Epoch')\n",
    "plt.legend(['Train', 'Validation'], loc='upper left')\n",
    "plt.show()"
   ]
  },
  {
   "cell_type": "markdown",
   "metadata": {},
   "source": [
    "Conculsuion\n",
    "\n",
    "Training Accuracy:\n",
    "The training accuracy is consistently increasing, which indicates that the model is learning from the training data.\n",
    "It starts from below 0.2 and rises to just above 0.8 by the 40th epoch.\n",
    "There's a steady progression with no significant plateaus or drops, suggesting that the model could potentially continue to learn with more epochs.\n",
    "\n",
    "Validation Accuracy:\n",
    "The validation accuracy also increases, but at a slower rate compared to the training accuracy.\n",
    "It begins at around 0.1 and appears to plateau near 0.7 after approximately 30 epochs.\n",
    "There are fluctuations in the validation accuracy, but this is common in validation curves."
   ]
  },
  {
   "cell_type": "code",
   "execution_count": null,
   "metadata": {},
   "outputs": [],
   "source": []
  }
 ],
 "metadata": {
  "kernelspec": {
   "display_name": "Python 3 (ipykernel)",
   "language": "python",
   "name": "python3"
  },
  "language_info": {
   "codemirror_mode": {
    "name": "ipython",
    "version": 3
   },
   "file_extension": ".py",
   "mimetype": "text/x-python",
   "name": "python",
   "nbconvert_exporter": "python",
   "pygments_lexer": "ipython3",
   "version": "3.11.4"
  }
 },
 "nbformat": 4,
 "nbformat_minor": 4
}
